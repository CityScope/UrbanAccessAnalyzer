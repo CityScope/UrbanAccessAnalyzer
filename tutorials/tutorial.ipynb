{
  "cells": [
    {
      "cell_type": "markdown",
      "metadata": {
        "id": "1kEAwlkEGTsX"
      },
      "source": [
        "# Accessibility to schools in rural areas"
      ]
    },
    {
      "cell_type": "code",
      "execution_count": null,
      "metadata": {
        "id": "DgjJf1ryGRdB"
      },
      "outputs": [],
      "source": [
        "# If using colab\n",
        "# Takes around 2-3 min\n",
        "!pip install git+https://github.com/CityScope/UrbanAccessAnalyzer.git\n",
        "!pip install matplotlib mapclassify folium\n",
        "!apt-get install -y osmium-tool\n",
        "\n",
        "# Restart notebook after installing this if needed"
      ]
    },
    {
      "cell_type": "code",
      "execution_count": null,
      "metadata": {
        "id": "cuKHB4Q3GTL4"
      },
      "outputs": [],
      "source": [
        "import os\n",
        "from datetime import datetime, date, timedelta, time\n",
        "import pandas as pd\n",
        "import geopandas as gpd\n",
        "import os\n",
        "\n",
        "import osmnx as ox\n",
        "\n",
        "import matplotlib.pyplot as plt\n",
        "\n",
        "import UrbanAccessAnalyzer.isochrones as isochrones\n",
        "import UrbanAccessAnalyzer.graph_processing as graph_processing\n",
        "import UrbanAccessAnalyzer.osm as osm\n",
        "import UrbanAccessAnalyzer.utils as utils\n",
        "import UrbanAccessAnalyzer.raster_utils as raster_utils\n",
        "import UrbanAccessAnalyzer.population as population\n",
        "\n",
        "import zipfile\n",
        "import numpy as np"
      ]
    },
    {
      "cell_type": "markdown",
      "metadata": {
        "id": "qBsOw1Z4Gg3Q"
      },
      "source": [
        "## 1 Points of interest\n",
        "\n",
        "Points of interest (poi): Schools as point geometry\n",
        "\n",
        "Area of interest (aoi): Polygon to do the analisys"
      ]
    },
    {
      "cell_type": "markdown",
      "metadata": {
        "id": "o9YcUUo1GlAp"
      },
      "source": [
        "### 1.1 Results folder"
      ]
    },
    {
      "cell_type": "code",
      "execution_count": null,
      "metadata": {
        "id": "2YhNvRTkGfSg"
      },
      "outputs": [],
      "source": [
        "results_path = os.path.normpath(\"results\")\n",
        "os.makedirs(results_path,exist_ok=True)"
      ]
    },
    {
      "cell_type": "markdown",
      "metadata": {
        "id": "iUadYcG5H4wi"
      },
      "source": [
        "### 1.2 Area of interest"
      ]
    },
    {
      "cell_type": "markdown",
      "metadata": {
        "id": "D6AAqVIGdRcY"
      },
      "source": [
        "Option 1: Write the city name"
      ]
    },
    {
      "cell_type": "code",
      "execution_count": null,
      "metadata": {
        "id": "Cqxb76JEdFmp"
      },
      "outputs": [],
      "source": [
        "city_name = \"Arevalo, España\"\n",
        "city_filename = utils.sanitize_filename(city_name)\n",
        "aoi = utils.get_city_geometry(city_name)\n",
        "geo_suggestions = utils.get_geographic_suggestions_from_string(city_name,user_agent=\"app\")\n",
        "geo_suggestions"
      ]
    },
    {
      "cell_type": "markdown",
      "metadata": {
        "id": "Nzsy8nghdsBv"
      },
      "source": [
        "Option 2: Load your own file (.gpkg or .shp)"
      ]
    },
    {
      "cell_type": "code",
      "execution_count": null,
      "metadata": {
        "id": "ytEYIRZ-H7Zp"
      },
      "outputs": [],
      "source": [
        "# aoi = gpd.read_file(\"\")\n",
        "# city_name = \"\""
      ]
    },
    {
      "cell_type": "markdown",
      "metadata": {
        "id": "J8-aPZaxeJ03"
      },
      "source": [
        "Use UTM coords and creat aoi_download with a buffer of X meters"
      ]
    },
    {
      "cell_type": "code",
      "execution_count": null,
      "metadata": {
        "id": "OIv4dtOEH3f7"
      },
      "outputs": [],
      "source": [
        "aoi = gpd.GeoDataFrame(geometry=[aoi.union_all()],crs=aoi.crs) # Ensure there is only one polygon\n",
        "aoi = aoi.to_crs(aoi.estimate_utm_crs()) # Convert to utm\n",
        "aoi_download = aoi.buffer(20000) # Area to do streets and poi requests"
      ]
    },
    {
      "cell_type": "markdown",
      "metadata": {
        "id": "QqdIui7uIl3u"
      },
      "source": [
        "Map of your area of interest and the download area (aoi_buffer)"
      ]
    },
    {
      "cell_type": "code",
      "execution_count": null,
      "metadata": {
        "id": "8xOffIHFIeNp"
      },
      "outputs": [],
      "source": [
        "m=aoi_download.explore(color='green')\n",
        "m=aoi.explore(m=m,color='red')\n",
        "m"
      ]
    },
    {
      "cell_type": "markdown",
      "metadata": {
        "id": "PaMoxWfLIsFQ"
      },
      "source": [
        "### 1.3 OpenStreetMap"
      ]
    },
    {
      "cell_type": "code",
      "execution_count": null,
      "metadata": {
        "id": "SZP0iwhPes7c"
      },
      "outputs": [],
      "source": [
        "query = \"\"\"\n",
        "[out:xml] [timeout:25];\n",
        "(\n",
        "    node[\"amenity\"=\"school\"]( {{bbox}});\n",
        "    way[\"amenity\"=\"school\"]( {{bbox}});\n",
        "    relation[\"amenity\"=\"school\"]( {{bbox}});\n",
        ");\n",
        "(._;>;);\n",
        "out body;\n",
        "\"\"\""
      ]
    },
    {
      "cell_type": "code",
      "execution_count": null,
      "metadata": {
        "id": "qgII58t-IzH8"
      },
      "outputs": [],
      "source": [
        "# If it fails execute again\n",
        "\n",
        "poi = osm.overpass_api_query(query,aoi_download)\n",
        "poi.geometry = poi.geometry.centroid\n",
        "poi = poi.to_crs(aoi.crs)\n",
        "poi"
      ]
    },
    {
      "cell_type": "markdown",
      "metadata": {
        "id": "Et18ODcfJB0o"
      },
      "source": [
        "Map with points of interest (schools), download area and area of interest"
      ]
    },
    {
      "cell_type": "code",
      "execution_count": null,
      "metadata": {
        "id": "M20px_TuI86R"
      },
      "outputs": [],
      "source": [
        "m=aoi_download.explore(color='green')\n",
        "m=aoi.explore(m=m,color='red')\n",
        "m=poi.explore(m=m,color='blue')\n",
        "m"
      ]
    },
    {
      "cell_type": "markdown",
      "metadata": {
        "id": "2nuEwUUBJL95"
      },
      "source": [
        "## 2 Street graph"
      ]
    },
    {
      "cell_type": "markdown",
      "metadata": {
        "id": "X3fIPRqRJl8I"
      },
      "source": [
        "### 2.1 Regionwise file and cropping\n",
        "\n",
        "- Download best regionwise pbf file. (Covers a large area)\n",
        "\n",
        "- Crop it to cover our area of interest and save it in .osm format"
      ]
    },
    {
      "cell_type": "code",
      "execution_count": null,
      "metadata": {
        "id": "yXbIa5RFfipR"
      },
      "outputs": [],
      "source": [
        "osm_xml_file = os.path.normpath(results_path+\"/streets.osm\")\n",
        "streets_graph_path = os.path.normpath(results_path+\"/streets.graphml\")\n",
        "streets_path = os.path.normpath(results_path+\"/streets.gpkg\")\n",
        "level_of_service_streets_path = os.path.normpath(results_path+\"/level_of_service_streets.gpkg\")"
      ]
    },
    {
      "cell_type": "code",
      "execution_count": null,
      "metadata": {
        "id": "Iy8p8QTCJN3S"
      },
      "outputs": [],
      "source": [
        "# Select what type of street network you want to load\n",
        "network_filter = osm.osmium_network_filter(\"walk+bike+primary\")\n",
        "# Download the region pbf file crop it by aoi and convert to osm format\n",
        "osm.geofabrik_to_osm(\n",
        "    osm_xml_file,\n",
        "    input_file=results_path,\n",
        "    aoi=aoi_download,\n",
        "    osmium_filter_args=network_filter,\n",
        "    overwrite=False\n",
        ")"
      ]
    },
    {
      "cell_type": "markdown",
      "metadata": {
        "id": "Jbfm-aezJ1Xr"
      },
      "source": [
        "### 2.2 Load to osmnx\n",
        "\n",
        "This way the street network is a networkx graph"
      ]
    },
    {
      "cell_type": "code",
      "execution_count": null,
      "metadata": {
        "id": "tN89ae27J1fo"
      },
      "outputs": [],
      "source": [
        "# Load\n",
        "G = ox.graph_from_xml(osm_xml_file)\n",
        "# Project geometry coordinates to UTM system to allow euclidean meassurements in meters (sorry americans)\n",
        "G = ox.project_graph(G,to_crs=aoi.estimate_utm_crs())\n",
        "# Save the graph in graphml format to avoid the slow loading process\n",
        "ox.save_graphml(G,streets_graph_path)"
      ]
    },
    {
      "cell_type": "markdown",
      "metadata": {
        "id": "jZaGCga3KFri"
      },
      "source": [
        "### 2.3 Simplify graph\n",
        "\n",
        "Edges with length smaler than X meters are deleted and its nodes merged"
      ]
    },
    {
      "cell_type": "code",
      "execution_count": null,
      "metadata": {
        "id": "GqUljLLMKDH9"
      },
      "outputs": [],
      "source": [
        "min_edge_length = 30\n",
        "\n",
        "G = graph_processing.simplify_graph(G,min_edge_length=min_edge_length,min_edge_separation=min_edge_length*2,undirected=True)\n",
        "# Save the result in graphml format\n",
        "ox.save_graphml(G,streets_graph_path)\n",
        "\n",
        "street_edges = ox.graph_to_gdfs(G,nodes=False)\n",
        "street_edges.to_file(streets_path)"
      ]
    },
    {
      "cell_type": "markdown",
      "metadata": {
        "id": "QSN1C8j0KOt6"
      },
      "source": [
        "### 2.4 Points of interest\n",
        "\n",
        "Add pois to street graph"
      ]
    },
    {
      "cell_type": "code",
      "execution_count": null,
      "metadata": {
        "id": "chOaFk5XKKn0"
      },
      "outputs": [],
      "source": [
        "G, osmids = graph_processing.add_points_to_graph(\n",
        "    poi,\n",
        "    G,\n",
        "    max_dist=100+min_edge_length, # Maximum distance from point to graph edge to project the point\n",
        "    min_edge_length=min_edge_length # Minimum edge length after adding the new nodes\n",
        ")\n",
        "poi['osmid'] = osmids # Add the ids of the nodes in the graph to points"
      ]
    },
    {
      "cell_type": "markdown",
      "metadata": {
        "id": "4X7gysEmKVkz"
      },
      "source": [
        "## 3 Compute isochrones\n",
        "\n",
        "### 3.1 Distance steps"
      ]
    },
    {
      "cell_type": "code",
      "execution_count": null,
      "metadata": {
        "id": "PApfLX3ckMMG"
      },
      "outputs": [],
      "source": [
        "distance_steps = [1000,3000,20000]\n",
        "level_of_services = ['walk','bike','bus']"
      ]
    },
    {
      "cell_type": "code",
      "execution_count": null,
      "metadata": {
        "id": "ueaNsEbzKVt6"
      },
      "outputs": [],
      "source": [
        "level_of_service_graph = isochrones.graph(\n",
        "    G,\n",
        "    poi,\n",
        "    distance_steps, # If service_quality_col is None it could be a list of distances\n",
        "    service_quality_col = None, # If all points have the same quality this could be None\n",
        "    level_of_services = level_of_services, # could be None and it will set to the sorted unique values of the matrix\n",
        "    min_edge_length = min_edge_length # Do not add new nodes if there will be an edge with less than this length\n",
        ")\n",
        "# Save edges as gpkg\n",
        "level_of_service_nodes, level_of_service_edges = ox.graph_to_gdfs(level_of_service_graph)\n",
        "level_of_service_edges.to_file(level_of_service_streets_path)"
      ]
    },
    {
      "cell_type": "markdown",
      "metadata": {
        "id": "520RVdd9KymW"
      },
      "source": [
        "#### Lets visualize the results on a map"
      ]
    },
    {
      "cell_type": "code",
      "execution_count": null,
      "metadata": {
        "id": "hfANCtf-Kyua"
      },
      "outputs": [],
      "source": [
        "m = None\n",
        "\n",
        "# m = street_edges.explore(\n",
        "#     m = m,\n",
        "#     color='black'\n",
        "# )\n",
        "\n",
        "m = level_of_service_edges.explore(\n",
        "    m=m,\n",
        "    column='level_of_service',\n",
        "    cmap=\"RdYlGn_r\",\n",
        ")\n",
        "\n",
        "m = poi[[\n",
        "    \"name\",\n",
        "    \"geometry\"\n",
        "]].explore(\n",
        "    m=m,\n",
        "    color=\"black\",\n",
        "    style_kwds={\n",
        "        \"color\": \"black\",       # Border color\n",
        "        \"weight\": 1,            # Border thickness\n",
        "        \"opacity\": 1.0,         # Border opacity\n",
        "        \"fillOpacity\": 1,\n",
        "        \"radius\": 6,\n",
        "    },\n",
        ")\n",
        "\n",
        "m.save(results_path + \"/level_of_service_streets.html\")\n",
        "# If map does not render\n",
        "# import webbrowser\n",
        "# webbrowser.open(results_path + \"/PToffer_map.html\")\n",
        "m"
      ]
    },
    {
      "cell_type": "markdown",
      "metadata": {
        "id": "-r5ZpmgQK36t"
      },
      "source": [
        "## 4 Population"
      ]
    },
    {
      "cell_type": "markdown",
      "metadata": {
        "id": "4OEorIvYLw1Q"
      },
      "source": [
        "### 4.1 Download Worldpop tif file\n",
        "\n",
        "- One file for every country\n",
        "- 100m pixel size\n",
        "- tif format\n",
        "- available from 2000 to 2030\n",
        "- gender and age"
      ]
    },
    {
      "cell_type": "code",
      "execution_count": null,
      "metadata": {
        "collapsed": true,
        "id": "p5KvnaWVLoi5"
      },
      "outputs": [],
      "source": [
        "population_file = population.download_worldpop_population(\n",
        "    aoi_download,\n",
        "    2025,\n",
        "    folder=results_path,\n",
        "    resolution=\"100m\",\n",
        "    dataset=\"age_structures\",\n",
        "    subset=\"U18\"\n",
        ")"
      ]
    },
    {
      "cell_type": "code",
      "execution_count": null,
      "metadata": {
        "id": "HC40l5a_-Z32"
      },
      "outputs": [],
      "source": [
        "zip_path = population_file\n",
        "\n",
        "# Extract to the same directory as the zip file\n",
        "extract_dir = os.path.splitext(zip_path)[0]\n",
        "os.makedirs(extract_dir, exist_ok=True)\n",
        "\n",
        "# Decompress the zip file\n",
        "with zipfile.ZipFile(zip_path, 'r') as zip_ref:\n",
        "    zip_ref.extractall(extract_dir)\n",
        "\n",
        "# Find the .tif file that contains '_T_'\n",
        "for file_name in os.listdir(extract_dir):\n",
        "    if file_name.lower().endswith('.tif') and '_T_' in file_name:\n",
        "        population_file = os.path.join(extract_dir, file_name)\n",
        "        break\n",
        "else:\n",
        "    raise FileNotFoundError(\"No .tif file containing '_T_' found in the zip archive.\")"
      ]
    },
    {
      "cell_type": "markdown",
      "metadata": {
        "id": "CPyI0YXNL41s"
      },
      "source": [
        "### 4.2 Filter population grid by streets\n",
        "\n",
        "The population files are not very precise in location. Sometimes population appears in inaccessible places. This makes the results slightly better."
      ]
    },
    {
      "cell_type": "code",
      "execution_count": null,
      "metadata": {
        "id": "Zz1VGFq3L-qU"
      },
      "outputs": [],
      "source": [
        "street_buffer = 25\n",
        "\n",
        "pop_raster, transform, crs = population.filter_population_by_streets(\n",
        "    streets_gdf=street_edges,\n",
        "    population=population_file,\n",
        "    street_buffer=street_buffer,\n",
        "    aoi=aoi_download,\n",
        "    min_population=1\n",
        ")"
      ]
    },
    {
      "cell_type": "markdown",
      "metadata": {
        "id": "hJ0nB-JeMJZh"
      },
      "source": [
        "### 4.3 Assign level of service to each population cell"
      ]
    },
    {
      "cell_type": "code",
      "execution_count": null,
      "metadata": {
        "id": "UvMvEvXsMJhm"
      },
      "outputs": [],
      "source": [
        "level_of_service_polygons = level_of_service_edges.to_crs(level_of_service_edges.estimate_utm_crs()).copy()\n",
        "level_of_service_polygons.geometry = level_of_service_polygons.geometry.simplify(street_buffer/2).buffer(street_buffer,resolution=4)\n",
        "level_of_service_raster = raster_utils.rasterize(\n",
        "    gdf=level_of_service_polygons,\n",
        "    shape=pop_raster,\n",
        "    transform=transform,\n",
        "    crs=crs,\n",
        "    value_column='level_of_service',\n",
        "    value_order=level_of_services\n",
        ")\n",
        "\n",
        "pop_gdf = raster_utils.vectorize(pop_raster,transform,crs,keep_nodata=True,nodata=0,min_value=1)\n",
        "pop_gdf = pop_gdf.rename(columns={'value':'population'})\n",
        "pop_gdf['population'] = pop_gdf['population'].astype(float).fillna(0)\n",
        "pop_gdf['level_of_service'] = level_of_service_raster.flatten()\n",
        "pop_gdf = pop_gdf[['id','population', *pop_gdf.columns[3:],'geometry']]\n",
        "pop_gdf = pop_gdf[pop_gdf['population'] > 1].reset_index(drop=True)\n",
        "pop_gdf = pop_gdf[pop_gdf.intersects(aoi.to_crs(pop_gdf.crs).union_all())]\n",
        "\n",
        "level_of_service_edges = level_of_service_edges[level_of_service_edges.intersects(aoi.to_crs(level_of_service_edges.crs).union_all())]\n",
        "level_of_service_nodes = level_of_service_nodes[level_of_service_nodes.intersects(aoi.to_crs(level_of_service_nodes.crs).union_all())]\n",
        "poi = poi[poi.intersects(aoi.to_crs(poi.crs).union_all())]\n",
        "\n",
        "pop_gdf.to_file(os.path.normpath(results_path + \"/population.gpkg\"))\n",
        "\n",
        "level_of_service_edges.to_file(level_of_service_streets_path)\n"
      ]
    },
    {
      "cell_type": "code",
      "execution_count": null,
      "metadata": {
        "id": "sM2co6KQBbI3"
      },
      "outputs": [],
      "source": [
        "m = None\n",
        "\n",
        "# m = street_edges.explore(\n",
        "#     m = m,\n",
        "#     color='black'\n",
        "# )\n",
        "\n",
        "m = level_of_service_edges.explore(\n",
        "    m=m,\n",
        "    column='level_of_service',\n",
        "    cmap=\"RdYlGn_r\",\n",
        ")\n",
        "\n",
        "m = poi[[\n",
        "    \"name\",\n",
        "    \"geometry\"\n",
        "]].explore(\n",
        "    m=m,\n",
        "    color=\"black\",\n",
        "    style_kwds={\n",
        "        \"color\": \"black\",       # Border color\n",
        "        \"weight\": 1,            # Border thickness\n",
        "        \"opacity\": 1.0,         # Border opacity\n",
        "        \"fillOpacity\": 1,\n",
        "        \"radius\": 6,\n",
        "    },\n",
        ")\n",
        "\n",
        "pop_gdf_points = pop_gdf.copy()\n",
        "pop_gdf_points.geometry = pop_gdf_points.geometry.centroid\n",
        "m=pop_gdf_points.explore(\n",
        "    m=m,\n",
        "    column=\"level_of_service\",            # color by service level\n",
        "    cmap=\"viridis\",\n",
        "    legend=True,\n",
        "    tooltip=[\"population\", \"level_of_service\"],\n",
        "    marker_type=\"circle_marker\",\n",
        "    style_kwds={\n",
        "        # define a dynamic radius for each feature\n",
        "        \"style_function\": lambda x: {\n",
        "            \"radius\": (np.log1p(x[\"properties\"][\"population\"]) /\n",
        "                       np.log1p(pop_gdf_points[\"population\"].max()) * 5),\n",
        "            \"color\": \"black\",      # border color\n",
        "            \"weight\": 1,           # border thickness\n",
        "            \"opacity\": 1.0,        # border opacity\n",
        "            \"fillOpacity\": 1.0,    # fill opacity\n",
        "        },\n",
        "    },\n",
        ")\n",
        "\n",
        "m.save(results_path + \"/level_of_service_population.html\")\n",
        "# If map does not render\n",
        "# import webbrowser\n",
        "# webbrowser.open(results_path + \"/PToffer_map.html\")\n",
        "m"
      ]
    },
    {
      "cell_type": "markdown",
      "metadata": {
        "id": "z6kS_FEoDlft"
      },
      "source": [
        "Important files:\n",
        "\n",
        "- streets.gpkg Has the street geometry as lines (all streets)\n",
        "- level_of_service_streets.gpkg Has the street geometry as lines with the level of service (only streets with level of service)\n",
        "- population.gpkg Is a grid with population and level of service"
      ]
    }
  ],
  "metadata": {
    "colab": {
      "provenance": []
    },
    "kernelspec": {
      "display_name": "Python 3",
      "name": "python3"
    },
    "language_info": {
      "name": "python"
    }
  },
  "nbformat": 4,
  "nbformat_minor": 0
}
