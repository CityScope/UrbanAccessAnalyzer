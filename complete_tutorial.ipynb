{
 "cells": [
  {
   "cell_type": "markdown",
   "id": "a2490080",
   "metadata": {},
   "source": [
    "# GTFS Handler tutorial"
   ]
  },
  {
   "cell_type": "code",
   "execution_count": null,
   "id": "8f119880",
   "metadata": {},
   "outputs": [],
   "source": [
    "# If using colab\n",
    "\n",
    "#!pip install polars geopandas osmnx matplotlib mapclassify folium leafmap tqdm\n",
    "#!pip install scikit-learn pycountry osm2geojson rapidfuzz pyarrow numpy networkx\n",
    "#!pip install git+https://github.com/GeomaticsCaminosUPM/pyGTFSHandler.git\n",
    "#!pip install git+https://github.com/GeomaticsCaminosUPM/UrbanAccessAnalyzer.git"
   ]
  },
  {
   "cell_type": "code",
   "execution_count": null,
   "id": "1aa97da6",
   "metadata": {},
   "outputs": [],
   "source": [
    "import sys\n",
    "import os\n",
    "\n",
    "sys.path.append(os.path.abspath(os.path.join(os.getcwd(), '..')))\n",
    "\n",
    "from gtfs.pyGTFSHandler.pyGTFSHandler.feed import Feed\n",
    "from gtfs.pyGTFSHandler.pyGTFSHandler.downloaders.spain.NAP import APIClient\n",
    "import gtfs.pyGTFSHandler.pyGTFSHandler.plot_helper as plot_helper\n",
    "import gtfs.pyGTFSHandler.pyGTFSHandler.processing_helper as processing_helper\n",
    "import accessibility.UrbanAccessAnalyzer.UrbanAccessAnalyzer.utils as utils\n",
    "from datetime import datetime, date, timedelta, time\n",
    "import pandas as pd\n",
    "import geopandas as gpd\n",
    "\n",
    "import osmnx as ox \n",
    "\n",
    "import matplotlib.pyplot as plt\n",
    "\n",
    "import accessibility.UrbanAccessAnalyzer.UrbanAccessAnalyzer.isochrones as isochrones\n",
    "import accessibility.UrbanAccessAnalyzer.UrbanAccessAnalyzer.graph_processing as graph_processing\n",
    "import accessibility.UrbanAccessAnalyzer.UrbanAccessAnalyzer.osm as osm\n",
    "import accessibility.UrbanAccessAnalyzer.UrbanAccessAnalyzer.utils as utils"
   ]
  },
  {
   "cell_type": "markdown",
   "id": "6beeffe3",
   "metadata": {},
   "source": [
    "### 1 Paths and data \n",
    "#### 1.1 Select your AOI and the region or city name\n",
    "\n",
    "Exmaple for spain. Adapt to other countries data."
   ]
  },
  {
   "cell_type": "code",
   "execution_count": null,
   "id": "c1230ea4",
   "metadata": {},
   "outputs": [],
   "source": [
    "borders_path = \"/home/miguel/Documents/Proyectos/PTLevelofService/gtfs/pyGTFSHandler/examples/SHP_ETRS89/recintos_municipales_inspire_peninbal_etrs89/recintos_municipales_inspire_peninbal_etrs89.shp\"\n",
    "city_name = \"palma\"\n",
    "municipalities_gdf = gpd.read_file(borders_path).to_crs(4326)\n",
    "aoi = utils.gdf_fuzzy_match(municipalities_gdf,city_name,column=\"NAMEUNIT\")\n",
    "city_name = utils.sanitize_filename(aoi['NAMEUNIT'].iloc[0])\n",
    "print(city_name)\n",
    "aoi"
   ]
  },
  {
   "cell_type": "markdown",
   "id": "e0ab3730",
   "metadata": {},
   "source": [
    "#### 1.2 File paths \n",
    "\n",
    "Paths where you want to save the downloaded info"
   ]
  },
  {
   "cell_type": "code",
   "execution_count": null,
   "id": "2377ea29",
   "metadata": {},
   "outputs": [],
   "source": [
    "base_path = f\"{city_name}\" # Base path for all files related with your city or region\n",
    "gtfs_path = base_path + \"/gtfs_files\" # GTFS public transport files\n",
    "results_path = base_path + \"/level_of_service\" # Accessibility and quality results"
   ]
  },
  {
   "cell_type": "code",
   "execution_count": null,
   "id": "00ee1aba",
   "metadata": {},
   "outputs": [],
   "source": [
    "os.makedirs(base_path,exist_ok=True)\n",
    "os.makedirs(gtfs_path,exist_ok=True)\n",
    "os.makedirs(results_path,exist_ok=True)"
   ]
  },
  {
   "cell_type": "markdown",
   "id": "ad3e562c",
   "metadata": {},
   "source": [
    "### 2 Download GTFS feeds \n",
    "\n",
    "This example is for spains API"
   ]
  },
  {
   "cell_type": "code",
   "execution_count": null,
   "id": "73943ab6",
   "metadata": {},
   "outputs": [],
   "source": [
    "api_key = 'b753bf33-9300-4bee-8c3d-8e35009de69c' # You should request your own key here: https://nap.transportes.gob.es/\n",
    "api = APIClient(api_key)"
   ]
  },
  {
   "cell_type": "markdown",
   "id": "e195ae60",
   "metadata": {},
   "source": [
    "#### 2.1 Find Feeds on the API"
   ]
  },
  {
   "cell_type": "code",
   "execution_count": null,
   "id": "dee02e90",
   "metadata": {},
   "outputs": [],
   "source": [
    "files = api.find_files(\n",
    "    region=city_name, # Name of the region you want to explore\n",
    "    region_type=[\"municipality\"], # Type of region 'municipality', 'urbanarea', 'province' or 'state'\n",
    "    transport_type=['bus','rail','boat'], # Type of transportation system 'bus', 'rail', 'boat' or 'plane'\n",
    "    #file_description='urbano', # Text that the gtfs feed has to include in its name or description\n",
    "    #start_date='01-10-2024', # The gtfs feed has to include the range of dates specified here\n",
    "    #end_date='31-10-2024' # Use today for today's date\n",
    ")\n",
    "\n",
    "for file in files:\n",
    "    print(file['nombre']) # print the names of the feeds that were found"
   ]
  },
  {
   "cell_type": "markdown",
   "id": "96f01f95",
   "metadata": {},
   "source": [
    "#### 2.2A Download current active files "
   ]
  },
  {
   "cell_type": "code",
   "execution_count": null,
   "id": "857f1a51",
   "metadata": {},
   "outputs": [],
   "source": [
    "file_paths = api.download_files( # Download the feeds found before\n",
    "    file_ids=files,\n",
    "    output_path=gtfs_path,\n",
    "    overwrite=False\n",
    ")"
   ]
  },
  {
   "cell_type": "markdown",
   "id": "43037ef6",
   "metadata": {},
   "source": [
    "#### 2.2B Download historic files\n",
    "\n",
    "\n",
    "Download past files and stack them into one unique file"
   ]
  },
  {
   "cell_type": "code",
   "execution_count": null,
   "id": "1e13fa02",
   "metadata": {},
   "outputs": [],
   "source": [
    "# file_paths = api.download_historic(\n",
    "#     output_path=gtfs_path,\n",
    "#     files=files,\n",
    "#     start_date=datetime(day=1,month=10,year=2024),\n",
    "#     end_date=datetime(day=30,month=10,year=2024),\n",
    "#     day_separation=7, # Download one file every x days or more. If there is an update more ofter it will not be downloaded\n",
    "#     overwrite=False,\n",
    "#     aoi=aoi # Area of interest. Crop all files by this aoi. \n",
    "# )"
   ]
  },
  {
   "cell_type": "markdown",
   "id": "425d79b9",
   "metadata": {},
   "source": [
    "### 3 GTFS process\n",
    "\n",
    "#### 3.1 Create the gtfs object \n",
    "\n",
    "This will do: \n",
    "\n",
    "- Load all .txt files of all gtfs folders given. \n",
    "- Select only the stops from stops.txt inside the area of interest.\n",
    "- Crop all trips in stop_times.txt with the stops inside the aoi + 1 more stop.\n",
    "- Check the stop_sequence in stop_times.txt.\n",
    "- Deal correctly with trips starting on one day and ending in the following day: hours always in 0-24 range but those trips are marked as next_day True. New service_ids are created to deal with that. \n",
    "- If the file has frequencies.txt this is processed too dealing with the next day problem. \n",
    "- If departure or arrival times are empty they get filled. \n",
    "- A shape direction col is computed as the mean heading of the vector between stop coordinates to mean of the remainning stops coordinates.\n",
    "- GTFS shapes are for now computed from the stop coordinates."
   ]
  },
  {
   "cell_type": "code",
   "execution_count": null,
   "id": "8d37c35a",
   "metadata": {},
   "outputs": [],
   "source": [
    "gtfs = Feed(\n",
    "    file_paths,\n",
    "    aoi=aoi,\n",
    "    stop_group_distance=200, # Group stops into one that are less than x meters apart. This created or updates the parent_station column\n",
    "    start_date=datetime(day=1,month=9,year=2025), \n",
    "    end_date=datetime(day=30,month=9,year=2025),\n",
    ")"
   ]
  },
  {
   "cell_type": "markdown",
   "id": "c80b0687",
   "metadata": {},
   "source": [
    "#### 3.2 Service intensity \n",
    "\n",
    "Service intensity is the product of the number of trips per stop times the number of stops in the feed. This is compued for every date in the range. "
   ]
  },
  {
   "cell_type": "code",
   "execution_count": null,
   "id": "29313cb5",
   "metadata": {},
   "outputs": [],
   "source": [
    "service_intensity = gtfs.get_service_intensity_in_date_range(\n",
    "    start_date=None, # If None take the feed min date\n",
    "    end_date=None, # If None take the feed max date\n",
    "    date_type=None # Could be something like holiday, weekday, or monday to only consider some dates from the range.\n",
    ")\n",
    "service_intensity = service_intensity.to_pandas()\n",
    "plot_helper.plot_service_intensity(service_intensity)"
   ]
  },
  {
   "cell_type": "markdown",
   "id": "ea981623",
   "metadata": {},
   "source": [
    "Select the most common weekday for our analysis"
   ]
  },
  {
   "cell_type": "code",
   "execution_count": null,
   "id": "ce4d0f23",
   "metadata": {},
   "outputs": [],
   "source": [
    "weekday_services = service_intensity.loc[\n",
    "    (service_intensity['holiday'] == False) & (service_intensity['weekend'] == False)\n",
    "]\n",
    "idx = processing_helper.most_frequent_row_index(weekday_services['service_intensity'])\n",
    "selected_weekday = weekday_services.iloc[idx]['date'].to_pydatetime()\n",
    "selected_weekday"
   ]
  },
  {
   "cell_type": "markdown",
   "id": "eb1316a1",
   "metadata": {},
   "source": [
    "#### 3.3 Service quality \n",
    "\n",
    "Service quality is evaluated depending the route type and the mean frequency in the selected time interval.\n",
    "\n",
    "By default processing_helper.SERVICE_MATRIX to give grades\n",
    "\n",
    "\n",
    "prcessing_helper.ROUTE_TYPES_TRANSLATOR translates from gtfs route_types to SERVICE_MATRIX route types and ROUTE_TYPES sets the priority or importance order if a stop has multiple route types"
   ]
  },
  {
   "cell_type": "code",
   "execution_count": null,
   "id": "1fd871db",
   "metadata": {},
   "outputs": [],
   "source": [
    "# Lets see what grade is given by default depending on route type and frequency. \n",
    "\n",
    "processing_helper.SERVICE_MATRIX # interval in minutes. The grading for stops is 1 for best - 12 for worst."
   ]
  },
  {
   "cell_type": "code",
   "execution_count": null,
   "id": "3528ac27",
   "metadata": {},
   "outputs": [],
   "source": [
    "start_hour = 8 # start at 8:00 \n",
    "end_hour = 20 # end at 20:900\n",
    "\n",
    "service_quality_file = processing_helper.get_service_quality(results_path,gtfs,dates=selected_weekday,times=[start_hour,end_hour])\n",
    "service_quality_gdf = gpd.read_file(service_quality_file)\n",
    "m = plot_helper.service_quality_map(service_quality_gdf,start_time=start_hour,end_time=end_hour)\n",
    "# If m does not plot do \n",
    "m.save(results_path + \"/stops_map.html\")\n",
    "import webbrowser\n",
    "webbrowser.open(results_path + \"/stops_map.html\")\n",
    "m"
   ]
  },
  {
   "cell_type": "markdown",
   "id": "e69b8554",
   "metadata": {},
   "source": [
    "# Accessibility Tutorial"
   ]
  },
  {
   "cell_type": "markdown",
   "id": "8d3c8a80",
   "metadata": {},
   "source": [
    "### Set paths"
   ]
  },
  {
   "cell_type": "code",
   "execution_count": null,
   "id": "8caebcb1",
   "metadata": {},
   "outputs": [],
   "source": [
    "pbf_path = \"pbf_files\" # For general region or country osm street network files\n",
    "graph_path = base_path + \"/street_network\" # City street network graphs"
   ]
  },
  {
   "cell_type": "code",
   "execution_count": null,
   "id": "59d6b9c2",
   "metadata": {},
   "outputs": [],
   "source": [
    "os.makedirs(pbf_path,exist_ok=True)\n",
    "os.makedirs(graph_path,exist_ok=True)"
   ]
  },
  {
   "cell_type": "code",
   "execution_count": null,
   "id": "d9776ac3",
   "metadata": {},
   "outputs": [],
   "source": [
    "osm_xml_file = graph_path + f\"/{city_name}.osm\" # City osm street network file\n",
    "full_graph_path = graph_path + f\"/{city_name}_full_graph.graphml\" # Full original city street netwrok in graph format\n",
    "simplified_graph_path = graph_path + f\"/{city_name}_simplified_graph.graphml\" # Simplified street network\n",
    "level_of_service_graph_path = graph_path + f\"/{city_name}_level_of_service.graphml\" # Street network with quality and accessibility\n",
    "level_of_service_nodes_path = graph_path + f\"/{city_name}_level_of_service_nodes.gpkg\" # Street network with quality and accessibility\n",
    "level_of_service_edges_path = graph_path + f\"/{city_name}_level_of_service_edges.gpkg\" # Street network with quality and accessibility"
   ]
  },
  {
   "cell_type": "markdown",
   "id": "3e18f13e",
   "metadata": {},
   "source": [
    "## 1 Download street network \n",
    "\n",
    "### 1.1 Regionwise file and cropping \n",
    "\n",
    "- Download best regionwise pbf file. (Covers a large area)\n",
    "\n",
    "- Crop it to cover our aoi and save it in .osm format"
   ]
  },
  {
   "cell_type": "code",
   "execution_count": null,
   "id": "96e241e0",
   "metadata": {},
   "outputs": [],
   "source": [
    "# Select what type of street network you want to load\n",
    "network_filter = osm.osmium_network_filter(\"walk+bike+primary\")\n",
    "# Download the region pbf file crop it by aoi and convert to osm format\n",
    "osm.geofabrik_to_osm(osm_xml_file,input_file=pbf_path,aoi=aoi,osmium_filter_args=network_filter,overwrite=False)"
   ]
  },
  {
   "cell_type": "markdown",
   "id": "62488c95",
   "metadata": {},
   "source": [
    "### 1.2 Load to osmnx\n",
    "\n",
    "This way the street network is a netokx graph \n",
    "\n",
    "(osmnx could be completely deleted from the process and its functions reimplemented to make it much faster, especially the loading process here)"
   ]
  },
  {
   "cell_type": "code",
   "execution_count": null,
   "id": "4940b818",
   "metadata": {},
   "outputs": [],
   "source": [
    "# Load\n",
    "G = ox.graph_from_xml(osm_xml_file)\n",
    "# Project geometry coordinates to UTM system to allow euclidean meassurements in meters (sorry americans)\n",
    "G = ox.project_graph(G,to_crs=aoi.estimate_utm_crs())\n",
    "# Save the graph in graphml format to avoid the slow loading process \n",
    "ox.save_graphml(G,full_graph_path)"
   ]
  },
  {
   "cell_type": "markdown",
   "id": "5919c4a6",
   "metadata": {},
   "source": [
    "### 1.3 Simplify graph \n",
    "\n",
    "Edges with length smaler than X are deleted and its nodes merged"
   ]
  },
  {
   "cell_type": "code",
   "execution_count": null,
   "id": "fcd698d8",
   "metadata": {},
   "outputs": [],
   "source": [
    "min_edge_length = 30\n",
    "G = graph_processing.simplify_graph(G,min_edge_length=min_edge_length,min_edge_separation=min_edge_length*2,undirected=True)\n",
    "# Save the result in graphml format \n",
    "ox.save_graphml(G,simplified_graph_path)"
   ]
  },
  {
   "cell_type": "markdown",
   "id": "706c8767",
   "metadata": {},
   "source": [
    "## 2 Service points \n",
    "\n",
    "- Load the points related to the service you want to evaluate (e.g. public transport stops or hospitals...)\n",
    "\n",
    "- Add those points to the graph as new nodes "
   ]
  },
  {
   "cell_type": "code",
   "execution_count": null,
   "id": "c410c7a9",
   "metadata": {},
   "outputs": [],
   "source": [
    "points = gpd.read_file(service_quality_file)\n",
    "points.head(5)"
   ]
  },
  {
   "cell_type": "markdown",
   "id": "add42d2e",
   "metadata": {},
   "source": [
    "Select the column of the points GeoDataFrame that has the service quality information"
   ]
  },
  {
   "cell_type": "code",
   "execution_count": null,
   "id": "76ebbc75",
   "metadata": {},
   "outputs": [],
   "source": [
    "service_quality_col = f\"service_quality_{start_hour}h_{end_hour}h\""
   ]
  },
  {
   "cell_type": "markdown",
   "id": "b79bacb3",
   "metadata": {},
   "source": [
    "Add the service points to the graph:\n",
    "\n",
    "- Project the points to the graph edges \n",
    "\n",
    "- Add new nodes at this projection points"
   ]
  },
  {
   "cell_type": "code",
   "execution_count": null,
   "id": "2ab86a56",
   "metadata": {},
   "outputs": [],
   "source": [
    "G, osmids = graph_processing.add_points_to_graph(\n",
    "    points,\n",
    "    G,\n",
    "    max_dist=100+min_edge_length, # Maximum distance from point to graph edge to project the point\n",
    "    min_edge_length=min_edge_length # Minimum edge length after adding the new nodes\n",
    ")\n",
    "points['osmid'] = osmids # Add the ids of the nodes in the graph to points"
   ]
  },
  {
   "cell_type": "markdown",
   "id": "f4d3d70e",
   "metadata": {},
   "source": [
    "### 3 Compute isochrones\n",
    "\n",
    "#### 3.1 Distance steps and level of services\n",
    "\n",
    "We need a DISTANCE_MATRIX to relate level of service classes to service qualities and distance to the service.\n",
    "\n",
    "and we need a LEVEL_OF_SERIVCES list to order the level of services classes form best to worst (or leave it up to the code is the matrix is very symetric)."
   ]
  },
  {
   "cell_type": "code",
   "execution_count": null,
   "id": "1aad6d16",
   "metadata": {},
   "outputs": [],
   "source": [
    "distance_matrix = processing_helper.DISTANCE_MATRIX\n",
    "distance_matrix"
   ]
  },
  {
   "cell_type": "code",
   "execution_count": null,
   "id": "9811bdb6",
   "metadata": {},
   "outputs": [],
   "source": [
    "level_of_services = processing_helper.LEVEL_OF_SERVICES\n",
    "level_of_services"
   ]
  },
  {
   "cell_type": "markdown",
   "id": "7e814734",
   "metadata": {},
   "source": [
    "Compute the level of service graph:\n",
    "\n",
    "- First it computes the isochrones with networkx at node level\n",
    "\n",
    "- Then it add new nodes to make the isochrones exact \n",
    "\n",
    "- The graph has a new property level_of_service with the level of service class"
   ]
  },
  {
   "cell_type": "code",
   "execution_count": null,
   "id": "7a8899d1",
   "metadata": {},
   "outputs": [],
   "source": [
    "level_of_service_graph = isochrones.graph(\n",
    "    G,\n",
    "    points,\n",
    "    distance_matrix, # If service_quality_col is None it could be a list of distances\n",
    "    service_quality_col = service_quality_col, # If all points have the same quality this could be None\n",
    "    level_of_services=level_of_services, # could be None and it will set to the sorted unique values of the matrix\n",
    "    min_edge_length=min_edge_length # Do not add new nodes if there will be an edge with less than this length\n",
    ")\n",
    "# Save as graphml \n",
    "ox.save_graphml(G,level_of_service_graph_path)"
   ]
  },
  {
   "cell_type": "code",
   "execution_count": null,
   "id": "91680c8c",
   "metadata": {},
   "outputs": [],
   "source": [
    "# Save edges and nodes as gpkg \n",
    "nodes, edges = ox.graph_to_gdfs(level_of_service_graph)\n",
    "nodes.to_file(level_of_service_nodes_path)\n",
    "edges.to_file(level_of_service_edges_path)"
   ]
  },
  {
   "cell_type": "markdown",
   "id": "90d760ee",
   "metadata": {},
   "source": [
    "### Lets see everything on a map"
   ]
  },
  {
   "cell_type": "code",
   "execution_count": null,
   "id": "887555e8",
   "metadata": {},
   "outputs": [],
   "source": [
    "m = edges.explore(\n",
    "    m=m,\n",
    "    column='level_of_service',\n",
    "    cmap=\"RdYlGn_r\",\n",
    ")\n",
    "\n",
    "# m = nodes.explore(\n",
    "#     m=m,\n",
    "#     column='level_of_service',\n",
    "#     cmap=\"RdYlGn_r\",\n",
    "#     style_kwds={\n",
    "#         \"radius\": 3, \n",
    "#     },\n",
    "# )\n",
    "\n",
    "m = points[[\n",
    "    \"stop_id\",\n",
    "    \"parent_station\",\n",
    "    \"stop_name\",\n",
    "    f\"service_quality_{start_hour}h_{end_hour}h\",\n",
    "    f\"interval_{start_hour}h_{end_hour}h\",\n",
    "    f\"route_names_{start_hour}h_{end_hour}h\",\n",
    "    f\"shape_directions_{start_hour}h_{end_hour}h\",\n",
    "    f\"route_type_{start_hour}h_{end_hour}h\",\n",
    "    \"route_type\",\n",
    "    \"geometry\"\n",
    "]].explore(\n",
    "    m=m,\n",
    "    column=f\"service_quality_{start_hour}h_{end_hour}h\",\n",
    "    cmap=\"RdYlGn_r\",\n",
    "    vmin=1,\n",
    "    vmax=10,\n",
    "    style_kwds={\n",
    "        \"color\": \"black\",       # Border color\n",
    "        \"weight\": 1,            # Border thickness\n",
    "        \"opacity\": 1.0,         # Border opacity\n",
    "        \"fillOpacity\": 1,\n",
    "        \"radius\": 6, \n",
    "    },\n",
    ")\n",
    "\n",
    "# If map does not render or you want to save the map\n",
    "m.save(results_path + \"/PToffer_map.html\")\n",
    "import webbrowser\n",
    "webbrowser.open(results_path + \"/PToffer_map.html\")\n",
    "m"
   ]
  },
  {
   "cell_type": "markdown",
   "id": "99097fcb",
   "metadata": {},
   "source": [
    "TODOS: \n",
    "- lf appears to have repeated rows \n",
    "\n",
    "- sometimes there is a node added in an edge that has the same ls on both sides and the node has a much lower ls \n",
    "\n",
    "- osmnx might not be needed \n",
    "\n",
    "- implement mobility data API "
   ]
  }
 ],
 "metadata": {
  "kernelspec": {
   "display_name": ".venv",
   "language": "python",
   "name": "python3"
  },
  "language_info": {
   "codemirror_mode": {
    "name": "ipython",
    "version": 3
   },
   "file_extension": ".py",
   "mimetype": "text/x-python",
   "name": "python",
   "nbconvert_exporter": "python",
   "pygments_lexer": "ipython3",
   "version": "3.12.3"
  }
 },
 "nbformat": 4,
 "nbformat_minor": 5
}
